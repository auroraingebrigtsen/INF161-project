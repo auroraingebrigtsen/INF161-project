{
 "cells": [
  {
   "cell_type": "code",
   "execution_count": 6,
   "metadata": {},
   "outputs": [],
   "source": [
    "import pandas as pd\n",
    "from sklearn.model_selection import train_test_split"
   ]
  },
  {
   "cell_type": "code",
   "execution_count": 8,
   "metadata": {},
   "outputs": [],
   "source": [
    "df = pd.read_csv('merged_data.csv')\n",
    "X = df.drop(columns=['Trafikkmengde'])\n",
    "y = df['Trafikkmengde']\n",
    "X_train, X_test, y_train, y_test = train_test_split(X, y ,shuffle=False, test_size=0.2)"
   ]
  },
  {
   "cell_type": "code",
   "execution_count": 17,
   "metadata": {},
   "outputs": [
    {
     "data": {
      "text/plain": [
       "Solskinstid       0\n",
       "Lufttemperatur    0\n",
       "Vindstyrke        0\n",
       "Lufttrykk         0\n",
       "Vindkast          0\n",
       "Globalstraling    0\n",
       "Vindretning       0\n",
       "Ukedag            0\n",
       "Maaned            0\n",
       "Aarstall          0\n",
       "Klokkeslett       0\n",
       "Rod_dag           0\n",
       "dtype: int64"
      ]
     },
     "execution_count": 17,
     "metadata": {},
     "output_type": "execute_result"
    }
   ],
   "source": [
    "X_train.fillna(inplace=True, method='ffill')\n",
    "X_train.isna().sum()"
   ]
  },
  {
   "cell_type": "code",
   "execution_count": 4,
   "metadata": {},
   "outputs": [
    {
     "data": {
      "text/plain": [
       "65353   NaN\n",
       "65354   NaN\n",
       "65355   NaN\n",
       "65356   NaN\n",
       "65357   NaN\n",
       "         ..\n",
       "69691   NaN\n",
       "69692   NaN\n",
       "69693   NaN\n",
       "69694   NaN\n",
       "69695   NaN\n",
       "Name: Trafikkmengde, Length: 4343, dtype: float64"
      ]
     },
     "execution_count": 4,
     "metadata": {},
     "output_type": "execute_result"
    }
   ],
   "source": [
    "y_test"
   ]
  },
  {
   "cell_type": "code",
   "execution_count": 18,
   "metadata": {},
   "outputs": [
    {
     "name": "stdout",
     "output_type": "stream",
     "text": [
      "d\n"
     ]
    }
   ],
   "source": [
    "my_dict = {'a': 10, 'b': 30, 'c': 5, 'd': 50}\n",
    "\n",
    "key_with_max_value = max(my_dict, key=my_dict.get)\n",
    "print(key_with_max_value)\n"
   ]
  }
 ],
 "metadata": {
  "kernelspec": {
   "display_name": "INF161",
   "language": "python",
   "name": "python3"
  },
  "language_info": {
   "codemirror_mode": {
    "name": "ipython",
    "version": 3
   },
   "file_extension": ".py",
   "mimetype": "text/x-python",
   "name": "python",
   "nbconvert_exporter": "python",
   "pygments_lexer": "ipython3",
   "version": "3.8.17"
  }
 },
 "nbformat": 4,
 "nbformat_minor": 2
}
