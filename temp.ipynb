{
 "cells": [
  {
   "cell_type": "code",
   "execution_count": 1,
   "metadata": {},
   "outputs": [],
   "source": [
    "import pandas as pd\n",
    "from sklearn.model_selection import train_test_split"
   ]
  },
  {
   "cell_type": "code",
   "execution_count": 2,
   "metadata": {},
   "outputs": [],
   "source": [
    "from Preprocessing import merge_dfs"
   ]
  },
  {
   "cell_type": "code",
   "execution_count": 3,
   "metadata": {},
   "outputs": [],
   "source": [
    "import numpy as np\n",
    "import pandas as pd\n",
    "from sklearn.model_selection import TimeSeriesSplit, cross_val_score\n",
    "from sklearn.ensemble import RandomForestRegressor\n",
    "from sklearn.model_selection import GridSearchCV\n",
    "from sklearn.pipeline import Pipeline\n",
    "from sklearn.decomposition import PCA\n",
    "from sklearn.impute import SimpleImputer\n",
    "from itertools import combinations"
   ]
  },
  {
   "cell_type": "code",
   "execution_count": 4,
   "metadata": {},
   "outputs": [],
   "source": [
    "\n",
    "class FeatureSelector():\n",
    "    def __init__(self, model, X_train, y_train, max_combos, features, splits=5) -> None:\n",
    "        self.model = model\n",
    "        self.X = X_train\n",
    "        self.y = y_train\n",
    "        self.splits = splits\n",
    "        self.max_combos = max_combos\n",
    "        self.features = features # list containing names of the features you want to select from\n",
    "        self.features_to_drop = None # name of the optimal combination of features\n",
    "        self.best_score = 10000\n",
    "\n",
    "    def test_performance(self, X_variant):\n",
    "        \"\"\"Performs K-fold to test performance of a dataframe\"\"\"\n",
    "        scores = cross_val_score(self.model, X_variant, self.y, cv=self.splits, scoring='neg_mean_squared_error')\n",
    "        return np.sqrt(-np.mean(scores))\n",
    "\n",
    "\n",
    "    def find_combos(self):\n",
    "        \"\"\"\n",
    "        0. create a list \n",
    "        1. loops trough n_combos\n",
    "        2. append to list all combos of size of loop+1 (0,1,2)\n",
    "        3. return list\n",
    "        \"\"\"\n",
    "        combo_list = []\n",
    "        for i in range(self.max_combos):\n",
    "            combinations_list = list(combinations(self.features, i))\n",
    "            for combination in combinations_list:\n",
    "                combo_list.append(list(combination))\n",
    "        return combo_list\n",
    "\n",
    "\n",
    "    def fit(self) -> None:\n",
    "        \"\"\"\n",
    "        1. runds find combos\n",
    "        2. loops trough all elements in find combos list \n",
    "        3. create a copy of X\n",
    "        4. remove the columns from the copy\n",
    "        5. test performance on the new df\n",
    "        6. if lower than best_SCORE save\n",
    "        \"\"\"\n",
    "        combo_list = self.find_combos()\n",
    "        for combination in combo_list:\n",
    "            X_copy = self.X.copy()\n",
    "            X_copy.drop(columns=combination, inplace=True)\n",
    "            score = self.test_performance(X_copy)\n",
    "            if score < self.best_score:\n",
    "                self.best_score = score\n",
    "                self.features_to_drop = combination\n",
    "    \n",
    "    def get_best(self):\n",
    "        new_X = self.X.drop(columns=self.features_to_drop)\n",
    "        return self.features_to_drop, new_X\n"
   ]
  },
  {
   "cell_type": "code",
   "execution_count": 5,
   "metadata": {},
   "outputs": [
    {
     "name": "stdout",
     "output_type": "stream",
     "text": [
      "Unike verdier i \"Felt\": ['1' '2' 'Totalt i retning Danmarksplass' 'Totalt i retning Florida'\n",
      " 'Totalt']\n",
      "       Trafikkmengde\n",
      "count   65250.000000\n",
      "mean       50.380552\n",
      "std        69.841572\n",
      "min         0.000000\n",
      "25%         5.000000\n",
      "50%        25.000000\n",
      "75%        64.000000\n",
      "max       608.000000\n",
      "Andel av værdata som inneholder \"Relativ Luftfuktighet: 0.11075391168620219\n",
      "       Globalstraling    Solskinstid  Lufttemperatur    Vindretning  \\\n",
      "count   707823.000000  707822.000000   707822.000000  707824.000000   \n",
      "mean       157.308492      70.214651       49.650598     247.069506   \n",
      "std        828.637784     827.357277      641.437364     659.156188   \n",
      "min        -97.200000       0.000000      -11.400000       2.000000   \n",
      "25%         -0.400000       0.000000        4.100000     146.000000   \n",
      "50%          5.600000       0.000000        8.100000     164.000000   \n",
      "75%        101.200000       0.000000       12.600000     298.000000   \n",
      "max       9999.990000    9999.990000     9999.990000    9999.990000   \n",
      "\n",
      "          Vindstyrke      Lufttrykk       Vindkast  Relativ luftfuktighet  \n",
      "count  707821.000000  708022.000000  445653.000000           78349.000000  \n",
      "mean       44.323176    1041.665574      62.882600             107.844187  \n",
      "std       640.987781     575.931217     756.814432             590.533155  \n",
      "min         0.000000     942.300000       0.000000              16.000000  \n",
      "25%         1.400000     997.300000       2.400000              62.000000  \n",
      "50%         2.600000    1005.800000       4.500000              77.000000  \n",
      "75%         4.300000    1013.200000       7.200000              86.000000  \n",
      "max      9999.990000    9999.990000    9999.990000            9999.990000  \n",
      "\"Vindkast\" ble først målt 2015-01-08\n",
      "         Solskinstid  Lufttemperatur     Vindstyrke      Lufttrykk  \\\n",
      "count  118296.000000   117862.000000  117865.000000  117864.000000   \n",
      "mean        7.604004        8.304543       3.055033    1004.655930   \n",
      "std        18.008487        5.840336       2.077804      12.469656   \n",
      "min         0.000000      -10.850000       0.000000     942.866667   \n",
      "25%         0.000000        4.066667       1.416667     997.250000   \n",
      "50%         0.000000        8.066667       2.633333    1005.666667   \n",
      "75%         0.000000       12.566667       4.216667    1013.133333   \n",
      "max        60.000000       31.833333      35.200000    1047.600000   \n",
      "\n",
      "           Vindkast  Globalstraling    Vindretning  \n",
      "count  73916.000000   117514.000000  117869.000000  \n",
      "mean       5.245482       90.560700     203.208774  \n",
      "std        3.483294      167.251092      75.895462  \n",
      "min        0.000000       -3.983333       2.000000  \n",
      "25%        2.500000       -0.350000     147.833333  \n",
      "50%        4.550000        5.833333     164.833333  \n",
      "75%        7.150000      100.450000     288.333333  \n",
      "max       28.950000     5396.966667     360.000000  \n",
      "Trafikkmengde     4454\n",
      "Solskinstid          0\n",
      "Lufttemperatur     326\n",
      "Vindstyrke         325\n",
      "Lufttrykk          324\n",
      "Vindkast           324\n",
      "Globalstraling     223\n",
      "Vindretning        322\n",
      "Ukedag               0\n",
      "Maaned               0\n",
      "Aarstall             0\n",
      "Klokkeslett          0\n",
      "Rod_dag              0\n",
      "dtype: int64\n"
     ]
    }
   ],
   "source": [
    "from Preprocessing import merge_dfs    \n",
    "from sklearn.model_selection import train_test_split\n",
    "df = merge_dfs()\n",
    "\n",
    "# Lagre 2023 data til senere\n",
    "data_2023 = df[df['Aarstall'] == 2023].drop(columns=['Trafikkmengde'])\n",
    "\n",
    "# Droppe kolonner der trafikkmengde er nan\n",
    "data = df[df['Aarstall'] != 2023]\n",
    "data = data.dropna(subset=['Trafikkmengde'])\n",
    "\n",
    "# Dele i features og target, og splitte datasettet i trenings-og testdata\n",
    "X = data.drop(columns=['Trafikkmengde'])\n",
    "y = data['Trafikkmengde']\n",
    "\n",
    "# Splitter dataen\n",
    "X_train, X_test, y_train, y_test = train_test_split(X, y ,shuffle=False, test_size=0.3)\n"
   ]
  },
  {
   "cell_type": "code",
   "execution_count": 6,
   "metadata": {},
   "outputs": [
    {
     "data": {
      "text/plain": [
       "Index(['Solskinstid', 'Lufttemperatur', 'Vindstyrke', 'Lufttrykk', 'Vindkast',\n",
       "       'Globalstraling', 'Vindretning', 'Ukedag', 'Maaned', 'Aarstall',\n",
       "       'Klokkeslett', 'Rod_dag'],\n",
       "      dtype='object')"
      ]
     },
     "execution_count": 6,
     "metadata": {},
     "output_type": "execute_result"
    }
   ],
   "source": [
    "X_train.columns"
   ]
  },
  {
   "cell_type": "code",
   "execution_count": 7,
   "metadata": {},
   "outputs": [],
   "source": [
    "features = ['Solskinstid', 'Lufttemperatur', 'Vindstyrke', 'Lufttrykk', 'Vindkast',\n",
    "       'Globalstraling', 'Vindretning']\n",
    "\n",
    "all_features = X_train.columns"
   ]
  },
  {
   "cell_type": "code",
   "execution_count": 8,
   "metadata": {},
   "outputs": [
    {
     "name": "stderr",
     "output_type": "stream",
     "text": [
      "c:\\Users\\Aurora Ingebrigtsen\\anaconda3\\envs\\INF161\\lib\\site-packages\\sklearn\\base.py:347: InconsistentVersionWarning: Trying to unpickle estimator DecisionTreeRegressor from version 1.3.2 when using version 1.3.0. This might lead to breaking code or invalid results. Use at your own risk. For more info please refer to:\n",
      "https://scikit-learn.org/stable/model_persistence.html#security-maintainability-limitations\n",
      "  warnings.warn(\n",
      "c:\\Users\\Aurora Ingebrigtsen\\anaconda3\\envs\\INF161\\lib\\site-packages\\sklearn\\base.py:347: InconsistentVersionWarning: Trying to unpickle estimator RandomForestRegressor from version 1.3.2 when using version 1.3.0. This might lead to breaking code or invalid results. Use at your own risk. For more info please refer to:\n",
      "https://scikit-learn.org/stable/model_persistence.html#security-maintainability-limitations\n",
      "  warnings.warn(\n"
     ]
    }
   ],
   "source": [
    "import pickle\n",
    "model = pickle.load(open('model.pkl', 'rb'))\n",
    "\n",
    "\n"
   ]
  },
  {
   "cell_type": "code",
   "execution_count": 9,
   "metadata": {},
   "outputs": [],
   "source": [
    "from sklearn.impute import KNNImputer\n",
    "imputer = KNNImputer()"
   ]
  },
  {
   "cell_type": "code",
   "execution_count": 10,
   "metadata": {},
   "outputs": [
    {
     "data": {
      "text/plain": [
       "pandas.core.frame.DataFrame"
      ]
     },
     "execution_count": 10,
     "metadata": {},
     "output_type": "execute_result"
    }
   ],
   "source": [
    "type(X_train)"
   ]
  },
  {
   "cell_type": "code",
   "execution_count": 11,
   "metadata": {},
   "outputs": [],
   "source": [
    "X_train = imputer.fit_transform(X_train)"
   ]
  },
  {
   "cell_type": "code",
   "execution_count": 12,
   "metadata": {},
   "outputs": [
    {
     "data": {
      "text/plain": [
       "numpy.ndarray"
      ]
     },
     "execution_count": 12,
     "metadata": {},
     "output_type": "execute_result"
    }
   ],
   "source": [
    "type(X_train)"
   ]
  },
  {
   "cell_type": "code",
   "execution_count": 13,
   "metadata": {},
   "outputs": [],
   "source": [
    "X_train = pd.DataFrame(X_train, columns=all_features)"
   ]
  },
  {
   "cell_type": "code",
   "execution_count": 14,
   "metadata": {},
   "outputs": [],
   "source": [
    "feature_selector = FeatureSelector(model, X_train, y_train, max_combos=3, features=features)\n",
    "feature_selector.fit()"
   ]
  },
  {
   "cell_type": "code",
   "execution_count": 19,
   "metadata": {},
   "outputs": [
    {
     "data": {
      "text/plain": [
       "['Vindkast', 'Globalstraling']"
      ]
     },
     "execution_count": 19,
     "metadata": {},
     "output_type": "execute_result"
    }
   ],
   "source": [
    "feature_selector.features_to_drop"
   ]
  },
  {
   "cell_type": "code",
   "execution_count": 17,
   "metadata": {},
   "outputs": [],
   "source": [
    "cols, new_X = feature_selector.get_best()"
   ]
  },
  {
   "cell_type": "code",
   "execution_count": 18,
   "metadata": {},
   "outputs": [
    {
     "data": {
      "text/plain": [
       "Index(['Solskinstid', 'Lufttemperatur', 'Vindstyrke', 'Lufttrykk',\n",
       "       'Vindretning', 'Ukedag', 'Maaned', 'Aarstall', 'Klokkeslett',\n",
       "       'Rod_dag'],\n",
       "      dtype='object')"
      ]
     },
     "execution_count": 18,
     "metadata": {},
     "output_type": "execute_result"
    }
   ],
   "source": [
    "new_X.columns"
   ]
  },
  {
   "cell_type": "code",
   "execution_count": null,
   "metadata": {},
   "outputs": [],
   "source": []
  }
 ],
 "metadata": {
  "kernelspec": {
   "display_name": "INF161",
   "language": "python",
   "name": "python3"
  },
  "language_info": {
   "codemirror_mode": {
    "name": "ipython",
    "version": 3
   },
   "file_extension": ".py",
   "mimetype": "text/x-python",
   "name": "python",
   "nbconvert_exporter": "python",
   "pygments_lexer": "ipython3",
   "version": "3.8.17"
  }
 },
 "nbformat": 4,
 "nbformat_minor": 2
}
