{
 "cells": [
  {
   "cell_type": "code",
   "execution_count": null,
   "metadata": {},
   "outputs": [],
   "source": [
    "import pandas as pd\n",
    "from sklearn.model_selection import train_test_split"
   ]
  },
  {
   "cell_type": "code",
   "execution_count": null,
   "metadata": {},
   "outputs": [],
   "source": [
    "from Preprocessing import merge_dfs"
   ]
  },
  {
   "cell_type": "code",
   "execution_count": null,
   "metadata": {},
   "outputs": [],
   "source": [
    "import numpy as np\n",
    "import pandas as pd\n",
    "from sklearn.model_selection import TimeSeriesSplit, cross_val_score\n",
    "from sklearn.ensemble import RandomForestRegressor\n",
    "from sklearn.model_selection import GridSearchCV\n",
    "from sklearn.pipeline import Pipeline\n",
    "from sklearn.decomposition import PCA\n",
    "from sklearn.impute import SimpleImputer\n",
    "from itertools import combinations"
   ]
  },
  {
   "cell_type": "code",
   "execution_count": null,
   "metadata": {},
   "outputs": [],
   "source": [
    "\n",
    "class FeatureSelector():\n",
    "    def __init__(self, model, X_train, y_train, max_combos, features, splits=5) -> None:\n",
    "        self.model = model\n",
    "        self.X = X_train\n",
    "        self.y = y_train\n",
    "        self.splits = splits\n",
    "        self.max_combos = max_combos\n",
    "        self.features = features # list containing names of the features you want to select from\n",
    "        self.features_to_drop = None # name of the optimal combination of features\n",
    "        self.best_score = 10000\n",
    "\n",
    "    def test_performance(self, X_variant):\n",
    "        \"\"\"Performs K-fold to test performance of a dataframe\"\"\"\n",
    "        scores = cross_val_score(self.model, X_variant, self.y, cv=self.splits, scoring='neg_mean_squared_error')\n",
    "        return np.sqrt(-np.mean(scores))\n",
    "\n",
    "\n",
    "    def find_combos(self):\n",
    "        \"\"\"\n",
    "        0. create a list \n",
    "        1. loops trough n_combos\n",
    "        2. append to list all combos of size of loop+1 (0,1,2)\n",
    "        3. return list\n",
    "        \"\"\"\n",
    "        combo_list = []\n",
    "        for i in range(self.max_combos):\n",
    "            combinations_list = list(combinations(self.features, i))\n",
    "            for combination in combinations_list:\n",
    "                combo_list.append(list(combination))\n",
    "        return combo_list\n",
    "\n",
    "\n",
    "    def fit(self) -> None:\n",
    "        \"\"\"\n",
    "        1. runds find combos\n",
    "        2. loops trough all elements in find combos list \n",
    "        3. create a copy of X\n",
    "        4. remove the columns from the copy\n",
    "        5. test performance on the new df\n",
    "        6. if lower than best_SCORE save\n",
    "        \"\"\"\n",
    "        combo_list = self.find_combos()\n",
    "        for combination in combo_list:\n",
    "            X_copy = self.X.copy()\n",
    "            X_copy.drop(columns=combination, inplace=True)\n",
    "            score = self.test_performance(X_copy)\n",
    "            if score < self.best_score:\n",
    "                self.best_score = score\n",
    "                self.features_to_drop = combination\n",
    "    \n",
    "    def get_best(self):\n",
    "        new_X = self.X.drop(columns=self.features_to_drop)\n",
    "        return self.features_to_drop, new_X\n"
   ]
  },
  {
   "cell_type": "code",
   "execution_count": null,
   "metadata": {},
   "outputs": [],
   "source": [
    "from Preprocessing import merge_dfs    \n",
    "from sklearn.model_selection import train_test_split\n",
    "df = merge_dfs()\n",
    "\n",
    "# Lagre 2023 data til senere\n",
    "data_2023 = df[df['Aarstall'] == 2023].drop(columns=['Trafikkmengde'])\n",
    "\n",
    "# Droppe kolonner der trafikkmengde er nan\n",
    "data = df[df['Aarstall'] != 2023]\n",
    "data = data.dropna(subset=['Trafikkmengde'])\n",
    "\n",
    "# Dele i features og target, og splitte datasettet i trenings-og testdata\n",
    "X = data.drop(columns=['Trafikkmengde'])\n",
    "y = data['Trafikkmengde']\n",
    "\n",
    "# Splitter dataen\n",
    "X_train, X_test, y_train, y_test = train_test_split(X, y ,shuffle=False, test_size=0.3)\n"
   ]
  },
  {
   "cell_type": "code",
   "execution_count": null,
   "metadata": {},
   "outputs": [],
   "source": [
    "X_train.columns"
   ]
  },
  {
   "cell_type": "code",
   "execution_count": null,
   "metadata": {},
   "outputs": [],
   "source": [
    "features = ['Solskinstid', 'Lufttemperatur', 'Vindstyrke', 'Lufttrykk', 'Vindkast',\n",
    "       'Globalstraling', 'Vindretning']\n",
    "\n",
    "all_features = X_train.columns"
   ]
  },
  {
   "cell_type": "code",
   "execution_count": null,
   "metadata": {},
   "outputs": [],
   "source": [
    "import pickle\n",
    "model = pickle.load(open('model.pkl', 'rb'))\n",
    "\n",
    "\n"
   ]
  },
  {
   "cell_type": "code",
   "execution_count": null,
   "metadata": {},
   "outputs": [],
   "source": [
    "from sklearn.impute import KNNImputer\n",
    "imputer = KNNImputer()"
   ]
  },
  {
   "cell_type": "code",
   "execution_count": null,
   "metadata": {},
   "outputs": [],
   "source": [
    "type(X_train)"
   ]
  },
  {
   "cell_type": "code",
   "execution_count": null,
   "metadata": {},
   "outputs": [],
   "source": [
    "X_train = imputer.fit_transform(X_train)"
   ]
  },
  {
   "cell_type": "code",
   "execution_count": null,
   "metadata": {},
   "outputs": [],
   "source": [
    "type(X_train)"
   ]
  },
  {
   "cell_type": "code",
   "execution_count": null,
   "metadata": {},
   "outputs": [],
   "source": [
    "X_train = pd.DataFrame(X_train, columns=all_features)"
   ]
  },
  {
   "cell_type": "code",
   "execution_count": null,
   "metadata": {},
   "outputs": [],
   "source": [
    "feature_selector = FeatureSelector(model, X_train, y_train, max_combos=3, features=features)\n",
    "feature_selector.fit()"
   ]
  },
  {
   "cell_type": "code",
   "execution_count": null,
   "metadata": {},
   "outputs": [],
   "source": []
  }
 ],
 "metadata": {
  "kernelspec": {
   "display_name": "INF161",
   "language": "python",
   "name": "python3"
  },
  "language_info": {
   "codemirror_mode": {
    "name": "ipython",
    "version": 3
   },
   "file_extension": ".py",
   "mimetype": "text/x-python",
   "name": "python",
   "nbconvert_exporter": "python",
   "pygments_lexer": "ipython3",
   "version": "3.8.17"
  }
 },
 "nbformat": 4,
 "nbformat_minor": 2
}
